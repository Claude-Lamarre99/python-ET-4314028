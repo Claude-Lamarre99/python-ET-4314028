{
 "cells": [
  {
   "cell_type": "markdown",
   "id": "cf090106",
   "metadata": {},
   "source": [
    "# Basic Data Types\n"
   ]
  },
  {
   "cell_type": "code",
   "execution_count": 3,
   "id": "764284ce",
   "metadata": {},
   "outputs": [],
   "source": [
    "x = 5"
   ]
  },
  {
   "cell_type": "code",
   "execution_count": null,
   "id": "66e332d3",
   "metadata": {},
   "outputs": [],
   "source": [
    "print(x)"
   ]
  },
  {
   "cell_type": "code",
   "execution_count": 6,
   "id": "05d17631",
   "metadata": {},
   "outputs": [],
   "source": [
    "name = 'claude'"
   ]
  },
  {
   "cell_type": "code",
   "execution_count": 8,
   "id": "04720f5f",
   "metadata": {},
   "outputs": [
    {
     "name": "stdout",
     "output_type": "stream",
     "text": [
      "claude\n"
     ]
    }
   ],
   "source": [
    "print(name)"
   ]
  },
  {
   "cell_type": "code",
   "execution_count": 9,
   "id": "6ef0a476",
   "metadata": {},
   "outputs": [
    {
     "data": {
      "text/plain": [
       "str"
      ]
     },
     "execution_count": 9,
     "metadata": {},
     "output_type": "execute_result"
    }
   ],
   "source": [
    "type(name)"
   ]
  },
  {
   "cell_type": "markdown",
   "id": "cd59edeb",
   "metadata": {},
   "source": [
    "## String\n"
   ]
  },
  {
   "cell_type": "code",
   "execution_count": 10,
   "id": "95039ba0",
   "metadata": {},
   "outputs": [],
   "source": [
    "name = 'claude'"
   ]
  },
  {
   "cell_type": "code",
   "execution_count": 11,
   "id": "4c178ab1",
   "metadata": {},
   "outputs": [
    {
     "name": "stdout",
     "output_type": "stream",
     "text": [
      "claude\n"
     ]
    }
   ],
   "source": [
    "print(name)"
   ]
  }
 ],
 "metadata": {
  "kernelspec": {
   "display_name": "Python 3",
   "language": "python",
   "name": "python3"
  },
  "language_info": {
   "codemirror_mode": {
    "name": "ipython",
    "version": 3
   },
   "file_extension": ".py",
   "mimetype": "text/x-python",
   "name": "python",
   "nbconvert_exporter": "python",
   "pygments_lexer": "ipython3",
   "version": "3.12.1"
  }
 },
 "nbformat": 4,
 "nbformat_minor": 5
}
